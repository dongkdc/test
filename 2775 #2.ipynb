{
 "cells": [
  {
   "cell_type": "code",
   "execution_count": null,
   "metadata": {},
   "outputs": [],
   "source": [
    "T=int(input()) #반복할 수 입력\n",
    "f0=[]\n",
    "result=[]\n",
    "for a in range(T):\n",
    "    k=int(input()) #층입력\n",
    "    n=int(input()) #호수 입력\n",
    "    f0 = [[0] * n for _ in range(k + 1)] #리스트를 n만큼 추가한 뒤 0으로 초기화\n",
    "    \n",
    "    f0[0]=[x for x in range(1,n+1)] #0층에 n만큼 인원 추가\n",
    "   \n",
    "    for i in range(1,k+1):\n",
    "        for j in range(n):\n",
    "            f0[i][j]=sum(f0[i-1][:j+1]) #전 층에 합을 현재 층에 저장함\n",
    "    result.append(f0[-1][-1]) #나온 값을 result에 저장\n",
    "    f0.clear()\n",
    "for o in range(T):\n",
    "    print(result[o])"
   ]
  }
 ],
 "metadata": {
  "language_info": {
   "name": "python"
  }
 },
 "nbformat": 4,
 "nbformat_minor": 2
}
